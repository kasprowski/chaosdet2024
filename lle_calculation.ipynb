{
  "cells": [
    {
      "cell_type": "markdown",
      "id": "bfad1acd-a7ce-4ece-8b6a-8b989a864203",
      "metadata": {
        "id": "bfad1acd-a7ce-4ece-8b6a-8b989a864203"
      },
      "source": [
        "# Section IV. Calculation of the LLE for the signals from the dataset."
      ]
    },
    {
      "cell_type": "code",
      "execution_count": 2,
      "id": "4433e045-fbbc-4527-80ea-3fcde3bbe0c5",
      "metadata": {
        "id": "4433e045-fbbc-4527-80ea-3fcde3bbe0c5",
        "outputId": "c41167ea-cc42-4bc0-d158-97eaecce64bf",
        "colab": {
          "base_uri": "https://localhost:8080/"
        }
      },
      "outputs": [
        {
          "output_type": "stream",
          "name": "stdout",
          "text": [
            "Collecting nolds==0.5.2\n",
            "  Downloading nolds-0.5.2-py2.py3-none-any.whl.metadata (4.6 kB)\n",
            "Requirement already satisfied: numpy in /usr/local/lib/python3.10/dist-packages (from nolds==0.5.2) (1.26.4)\n",
            "Requirement already satisfied: future in /usr/local/lib/python3.10/dist-packages (from nolds==0.5.2) (1.0.0)\n",
            "Requirement already satisfied: setuptools in /usr/local/lib/python3.10/dist-packages (from nolds==0.5.2) (75.1.0)\n",
            "Downloading nolds-0.5.2-py2.py3-none-any.whl (39 kB)\n",
            "Installing collected packages: nolds\n",
            "Successfully installed nolds-0.5.2\n"
          ]
        }
      ],
      "source": [
        "!pip install nolds==0.5.2"
      ]
    },
    {
      "cell_type": "code",
      "source": [
        "!wget www.kasprowski.pl/datasets/chaos_dataset.zip\n",
        "!unzip chaos_dataset.zip"
      ],
      "metadata": {
        "id": "QmoNW1bzpkIp",
        "outputId": "081f1c4f-b987-44d6-c08e-b3b5b6c81d00",
        "colab": {
          "base_uri": "https://localhost:8080/"
        }
      },
      "id": "QmoNW1bzpkIp",
      "execution_count": 6,
      "outputs": [
        {
          "output_type": "stream",
          "name": "stdout",
          "text": [
            "--2025-01-08 11:21:58--  http://www.kasprowski.pl/datasets/chaos_dataset.zip\n",
            "Resolving www.kasprowski.pl (www.kasprowski.pl)... 94.152.164.213\n",
            "Connecting to www.kasprowski.pl (www.kasprowski.pl)|94.152.164.213|:80... connected.\n",
            "HTTP request sent, awaiting response... 200 OK\n",
            "Length: 2156725 (2.1M) [application/zip]\n",
            "Saving to: ‘chaos_dataset.zip’\n",
            "\n",
            "chaos_dataset.zip   100%[===================>]   2.06M  1.06MB/s    in 1.9s    \n",
            "\n",
            "2025-01-08 11:22:00 (1.06 MB/s) - ‘chaos_dataset.zip’ saved [2156725/2156725]\n",
            "\n",
            "Archive:  chaos_dataset.zip\n",
            "  inflating: C0ModelHalvorsenA513/C0ModelHalvorsenA513-1.txt  \n",
            "  inflating: C0ModelHalvorsenA513/C0ModelHalvorsenA513-10.txt  \n",
            "  inflating: C0ModelHalvorsenA513/C0ModelHalvorsenA513-2.txt  \n",
            "  inflating: C0ModelHalvorsenA513/C0ModelHalvorsenA513-3.txt  \n",
            "  inflating: C0ModelHalvorsenA513/C0ModelHalvorsenA513-4.txt  \n",
            "  inflating: C0ModelHalvorsenA513/C0ModelHalvorsenA513-5.txt  \n",
            "  inflating: C0ModelHalvorsenA513/C0ModelHalvorsenA513-6.txt  \n",
            "  inflating: C0ModelHalvorsenA513/C0ModelHalvorsenA513-7.txt  \n",
            "  inflating: C0ModelHalvorsenA513/C0ModelHalvorsenA513-8.txt  \n",
            "  inflating: C0ModelHalvorsenA513/C0ModelHalvorsenA513-9.txt  \n",
            "  inflating: C0ModelLorenzA51/C0ModelLorenzA51-1.txt  \n",
            "  inflating: C0ModelLorenzA51/C0ModelLorenzA51-10.txt  \n",
            "  inflating: C0ModelLorenzA51/C0ModelLorenzA51-2.txt  \n",
            "  inflating: C0ModelLorenzA51/C0ModelLorenzA51-3.txt  \n",
            "  inflating: C0ModelLorenzA51/C0ModelLorenzA51-4.txt  \n",
            "  inflating: C0ModelLorenzA51/C0ModelLorenzA51-5.txt  \n",
            "  inflating: C0ModelLorenzA51/C0ModelLorenzA51-6.txt  \n",
            "  inflating: C0ModelLorenzA51/C0ModelLorenzA51-7.txt  \n",
            "  inflating: C0ModelLorenzA51/C0ModelLorenzA51-8.txt  \n",
            "  inflating: C0ModelLorenzA51/C0ModelLorenzA51-9.txt  \n",
            "  inflating: C0ModelRoslerA52/C0ModelRoslerA52-1.txt  \n",
            "  inflating: C0ModelRoslerA52/C0ModelRoslerA52-10.txt  \n",
            "  inflating: C0ModelRoslerA52/C0ModelRoslerA52-2.txt  \n",
            "  inflating: C0ModelRoslerA52/C0ModelRoslerA52-3.txt  \n",
            "  inflating: C0ModelRoslerA52/C0ModelRoslerA52-4.txt  \n",
            "  inflating: C0ModelRoslerA52/C0ModelRoslerA52-5.txt  \n",
            "  inflating: C0ModelRoslerA52/C0ModelRoslerA52-6.txt  \n",
            "  inflating: C0ModelRoslerA52/C0ModelRoslerA52-7.txt  \n",
            "  inflating: C0ModelRoslerA52/C0ModelRoslerA52-8.txt  \n",
            "  inflating: C0ModelRoslerA52/C0ModelRoslerA52-9.txt  \n",
            "  inflating: C0ModelRucklideA515/C0ModelRucklideA515-1.txt  \n",
            "  inflating: C0ModelRucklideA515/C0ModelRucklideA515-10.txt  \n",
            "  inflating: C0ModelRucklideA515/C0ModelRucklideA515-2.txt  \n",
            "  inflating: C0ModelRucklideA515/C0ModelRucklideA515-3.txt  \n",
            "  inflating: C0ModelRucklideA515/C0ModelRucklideA515-4.txt  \n",
            "  inflating: C0ModelRucklideA515/C0ModelRucklideA515-5.txt  \n",
            "  inflating: C0ModelRucklideA515/C0ModelRucklideA515-6.txt  \n",
            "  inflating: C0ModelRucklideA515/C0ModelRucklideA515-7.txt  \n",
            "  inflating: C0ModelRucklideA515/C0ModelRucklideA515-8.txt  \n",
            "  inflating: C0ModelRucklideA515/C0ModelRucklideA515-9.txt  \n",
            "  inflating: C0ModelUedaA45/C0ModelUedaA45-1.txt  \n",
            "  inflating: C0ModelUedaA45/C0ModelUedaA45-10.txt  \n",
            "  inflating: C0ModelUedaA45/C0ModelUedaA45-2.txt  \n",
            "  inflating: C0ModelUedaA45/C0ModelUedaA45-3.txt  \n",
            "  inflating: C0ModelUedaA45/C0ModelUedaA45-4.txt  \n",
            "  inflating: C0ModelUedaA45/C0ModelUedaA45-5.txt  \n",
            "  inflating: C0ModelUedaA45/C0ModelUedaA45-6.txt  \n",
            "  inflating: C0ModelUedaA45/C0ModelUedaA45-7.txt  \n",
            "  inflating: C0ModelUedaA45/C0ModelUedaA45-8.txt  \n",
            "  inflating: C0ModelUedaA45/C0ModelUedaA45-9.txt  \n",
            "  inflating: C1LinearOscBooming01/C1LinearOscBooming01-1.txt  \n",
            "  inflating: C1LinearOscBooming01/C1LinearOscBooming01-10.txt  \n",
            "  inflating: C1LinearOscBooming01/C1LinearOscBooming01-2.txt  \n",
            "  inflating: C1LinearOscBooming01/C1LinearOscBooming01-3.txt  \n",
            "  inflating: C1LinearOscBooming01/C1LinearOscBooming01-4.txt  \n",
            "  inflating: C1LinearOscBooming01/C1LinearOscBooming01-5.txt  \n",
            "  inflating: C1LinearOscBooming01/C1LinearOscBooming01-6.txt  \n",
            "  inflating: C1LinearOscBooming01/C1LinearOscBooming01-7.txt  \n",
            "  inflating: C1LinearOscBooming01/C1LinearOscBooming01-8.txt  \n",
            "  inflating: C1LinearOscBooming01/C1LinearOscBooming01-9.txt  \n",
            "  inflating: C1LinearOscFading01/C1LinearOscFading01-1.txt  \n",
            "  inflating: C1LinearOscFading01/C1LinearOscFading01-10.txt  \n",
            "  inflating: C1LinearOscFading01/C1LinearOscFading01-2.txt  \n",
            "  inflating: C1LinearOscFading01/C1LinearOscFading01-3.txt  \n",
            "  inflating: C1LinearOscFading01/C1LinearOscFading01-4.txt  \n",
            "  inflating: C1LinearOscFading01/C1LinearOscFading01-5.txt  \n",
            "  inflating: C1LinearOscFading01/C1LinearOscFading01-6.txt  \n",
            "  inflating: C1LinearOscFading01/C1LinearOscFading01-7.txt  \n",
            "  inflating: C1LinearOscFading01/C1LinearOscFading01-8.txt  \n",
            "  inflating: C1LinearOscFading01/C1LinearOscFading01-9.txt  \n",
            "  inflating: C1LinearOscFading02/C1LinearOscFading02-1.txt  \n",
            "  inflating: C1LinearOscFading02/C1LinearOscFading02-10.txt  \n",
            "  inflating: C1LinearOscFading02/C1LinearOscFading02-2.txt  \n",
            "  inflating: C1LinearOscFading02/C1LinearOscFading02-3.txt  \n",
            "  inflating: C1LinearOscFading02/C1LinearOscFading02-4.txt  \n",
            "  inflating: C1LinearOscFading02/C1LinearOscFading02-5.txt  \n",
            "  inflating: C1LinearOscFading02/C1LinearOscFading02-6.txt  \n",
            "  inflating: C1LinearOscFading02/C1LinearOscFading02-7.txt  \n",
            "  inflating: C1LinearOscFading02/C1LinearOscFading02-8.txt  \n",
            "  inflating: C1LinearOscFading02/C1LinearOscFading02-9.txt  \n",
            "  inflating: C1LinearOscillator01/C1LinearOscillator01-1.txt  \n",
            "  inflating: C1LinearOscillator01/C1LinearOscillator01-10.txt  \n",
            "  inflating: C1LinearOscillator01/C1LinearOscillator01-2.txt  \n",
            "  inflating: C1LinearOscillator01/C1LinearOscillator01-3.txt  \n",
            "  inflating: C1LinearOscillator01/C1LinearOscillator01-4.txt  \n",
            "  inflating: C1LinearOscillator01/C1LinearOscillator01-5.txt  \n",
            "  inflating: C1LinearOscillator01/C1LinearOscillator01-6.txt  \n",
            "  inflating: C1LinearOscillator01/C1LinearOscillator01-7.txt  \n",
            "  inflating: C1LinearOscillator01/C1LinearOscillator01-8.txt  \n",
            "  inflating: C1LinearOscillator01/C1LinearOscillator01-9.txt  \n",
            "  inflating: C1LinearOscillator02/C1LinearOscillator02-1.txt  \n",
            "  inflating: C1LinearOscillator02/C1LinearOscillator02-10.txt  \n",
            "  inflating: C1LinearOscillator02/C1LinearOscillator02-2.txt  \n",
            "  inflating: C1LinearOscillator02/C1LinearOscillator02-3.txt  \n",
            "  inflating: C1LinearOscillator02/C1LinearOscillator02-4.txt  \n",
            "  inflating: C1LinearOscillator02/C1LinearOscillator02-5.txt  \n",
            "  inflating: C1LinearOscillator02/C1LinearOscillator02-6.txt  \n",
            "  inflating: C1LinearOscillator02/C1LinearOscillator02-7.txt  \n",
            "  inflating: C1LinearOscillator02/C1LinearOscillator02-8.txt  \n",
            "  inflating: C1LinearOscillator02/C1LinearOscillator02-9.txt  \n"
          ]
        }
      ]
    },
    {
      "cell_type": "code",
      "execution_count": 3,
      "id": "31b3c25a-1070-4748-85eb-e76e77dc4d60",
      "metadata": {
        "id": "31b3c25a-1070-4748-85eb-e76e77dc4d60"
      },
      "outputs": [],
      "source": [
        "import numpy as np\n",
        "import pandas as pd\n",
        "import nolds\n",
        "import warnings\n",
        "import json\n",
        "from matplotlib import pyplot as plt"
      ]
    },
    {
      "cell_type": "code",
      "execution_count": 4,
      "id": "18ca97da-4a68-488a-bc16-ddcab118140c",
      "metadata": {
        "id": "18ca97da-4a68-488a-bc16-ddcab118140c"
      },
      "outputs": [],
      "source": [
        "files = ['C0ModelHalvorsenA513',\n",
        "'C0ModelLorenzA51',\n",
        "'C0ModelRoslerA52',\n",
        "'C0ModelRucklideA515',\n",
        "'C0ModelUedaA45',\n",
        "'C1LinearOscBooming01',\n",
        "'C1LinearOscFading01',\n",
        "'C1LinearOscFading02',\n",
        "'C1LinearOscillator01',\n",
        "'C1LinearOscillator02']"
      ]
    },
    {
      "cell_type": "markdown",
      "id": "ffb99dff-636b-4c99-8c13-10844ed2abb4",
      "metadata": {
        "id": "ffb99dff-636b-4c99-8c13-10844ed2abb4"
      },
      "source": [
        "## Calculation of the Largest Lyapunov Exponent (LLE) for each signal"
      ]
    },
    {
      "cell_type": "code",
      "execution_count": 7,
      "id": "9163fc4f-77d3-4640-94ee-848359f1cead",
      "metadata": {
        "id": "9163fc4f-77d3-4640-94ee-848359f1cead",
        "outputId": "59639d3b-d806-4a99-c085-2c3c52b1e948",
        "colab": {
          "base_uri": "https://localhost:8080/"
        }
      },
      "outputs": [
        {
          "output_type": "stream",
          "name": "stdout",
          "text": [
            "type\tno\tLLE\n",
            "C0ModelHalvorsenA513\t1\t0.06728329052798507\t\n",
            "C0ModelHalvorsenA513\t2\t0.06534014353878739\t\n",
            "C0ModelHalvorsenA513\t3\t0.06521197509762824\t\n",
            "C0ModelHalvorsenA513\t4\t0.0645595342060901\t\n",
            "C0ModelHalvorsenA513\t5\t0.06415677893297622\t\n",
            "C0ModelHalvorsenA513\t6\t0.059436963505127956\t\n",
            "C0ModelHalvorsenA513\t7\t0.0506409197884383\t\n",
            "C0ModelHalvorsenA513\t8\t0.0708308909844635\t\n",
            "C0ModelHalvorsenA513\t9\t0.06351337119152671\t\n",
            "C0ModelHalvorsenA513\t10\t0.057771410250611464\t\n",
            "C0ModelLorenzA51\t1\t0.11160697092239123\t\n",
            "C0ModelLorenzA51\t2\t0.10248116067141518\t\n",
            "C0ModelLorenzA51\t3\t0.10933635672904495\t\n",
            "C0ModelLorenzA51\t4\t0.11700789134081144\t\n",
            "C0ModelLorenzA51\t5\t0.11445754634398493\t\n",
            "C0ModelLorenzA51\t6\t0.11265661426700821\t\n",
            "C0ModelLorenzA51\t7\t0.1011100713919876\t\n",
            "C0ModelLorenzA51\t8\t0.1054022535394625\t\n",
            "C0ModelLorenzA51\t9\t0.10618824950958551\t\n",
            "C0ModelLorenzA51\t10\t0.10653971112648347\t\n",
            "C0ModelRoslerA52\t1\t0.028733503123871344\t\n",
            "C0ModelRoslerA52\t2\t0.024511687222279997\t\n",
            "C0ModelRoslerA52\t3\t0.025847958756568735\t\n",
            "C0ModelRoslerA52\t4\t0.025467513490440238\t\n",
            "C0ModelRoslerA52\t5\t0.028760258752600572\t\n",
            "C0ModelRoslerA52\t6\t0.024033278182036905\t\n",
            "C0ModelRoslerA52\t7\t0.02577850764855405\t\n",
            "C0ModelRoslerA52\t8\t0.02952646875291838\t\n",
            "C0ModelRoslerA52\t9\t0.02656042775265255\t\n",
            "C0ModelRoslerA52\t10\t0.01823364299042778\t\n",
            "C0ModelRucklideA515\t1\t0.06483434331358263\t\n",
            "C0ModelRucklideA515\t2\t0.05678189945988414\t\n",
            "C0ModelRucklideA515\t3\t0.05027382859866008\t\n",
            "C0ModelRucklideA515\t4\t0.05864876202846829\t\n",
            "C0ModelRucklideA515\t5\t0.05239510605657907\t\n",
            "C0ModelRucklideA515\t6\t0.07030231843814533\t\n",
            "C0ModelRucklideA515\t7\t0.07179671503617463\t\n",
            "C0ModelRucklideA515\t8\t0.06990658366506483\t\n",
            "C0ModelRucklideA515\t9\t0.0403791298095445\t\n",
            "C0ModelRucklideA515\t10\t0.057604885258172665\t\n",
            "C0ModelUedaA45\t1\t0.030961187620519\t\n",
            "C0ModelUedaA45\t2\t0.02215326620494802\t\n",
            "C0ModelUedaA45\t3\t0.0006474749635634103\t\n",
            "C0ModelUedaA45\t4\t0.01326557185590574\t\n",
            "C0ModelUedaA45\t5\t0.002414038043714413\t\n",
            "C0ModelUedaA45\t6\t0.03220285086722428\t\n",
            "C0ModelUedaA45\t7\t0.014602226063386728\t\n",
            "C0ModelUedaA45\t8\t0.02418690091296481\t\n",
            "C0ModelUedaA45\t9\t0.03927433124647457\t\n",
            "C0ModelUedaA45\t10\t0.01669771116279121\t\n",
            "C1LinearOscBooming01\t1\t0.00845625077871452\t!\n",
            "C1LinearOscBooming01\t2\t0.005537994789953966\t!\n",
            "C1LinearOscBooming01\t3\t0.008454019189777229\t!\n",
            "C1LinearOscBooming01\t4\t0.0074544195393870605\t!\n",
            "C1LinearOscBooming01\t5\t0.0058133597660781884\t!\n",
            "C1LinearOscBooming01\t6\t0.004964451637483182\t!\n",
            "C1LinearOscBooming01\t7\t0.007448086747549528\t!\n",
            "C1LinearOscBooming01\t8\t0.00846000950139267\t!\n",
            "C1LinearOscBooming01\t9\t0.008480311421256449\t!\n",
            "C1LinearOscBooming01\t10\t0.008455552418429149\t!\n",
            "C1LinearOscFading01\t1\t0.02681584716739504\t!\n",
            "C1LinearOscFading01\t2\t-0.0031173790307869754\t\n",
            "C1LinearOscFading01\t3\t-0.0031005525947513705\t\n",
            "C1LinearOscFading01\t4\t-0.0024525782219449762\t\n",
            "C1LinearOscFading01\t5\t-0.002463102699222447\t\n",
            "C1LinearOscFading01\t6\t-0.0031021668498677586\t\n",
            "C1LinearOscFading01\t7\t-0.0024553640444475995\t\n",
            "C1LinearOscFading01\t8\t-0.002457232672469075\t\n",
            "C1LinearOscFading01\t9\t-0.0031209778068657253\t\n",
            "C1LinearOscFading01\t10\t-0.003118650716050235\t\n",
            "C1LinearOscFading02\t1\t-0.0007684702263738967\t\n",
            "C1LinearOscFading02\t2\t-0.000781972157327779\t\n",
            "C1LinearOscFading02\t3\t-0.0006517021279586233\t\n",
            "C1LinearOscFading02\t4\t-0.00012077301232730375\t\n",
            "C1LinearOscFading02\t5\t-0.0008161977717750893\t\n",
            "C1LinearOscFading02\t6\t-0.0007860643523079851\t\n",
            "C1LinearOscFading02\t7\t-0.0007579663642367249\t\n",
            "C1LinearOscFading02\t8\t-0.0008295132701558087\t\n",
            "C1LinearOscFading02\t9\t-0.0006690738792706889\t\n",
            "C1LinearOscFading02\t10\t-0.0007961963352404305\t\n",
            "C1LinearOscillator01\t1\t-3.401721837484449e-05\t\n",
            "C1LinearOscillator01\t2\t0.0030880000082294705\t!\n",
            "C1LinearOscillator01\t3\t0.00012989703411360725\t!\n",
            "C1LinearOscillator01\t4\t-2.859870156082514e-05\t\n",
            "C1LinearOscillator01\t5\t0.0003723773306500966\t!\n",
            "C1LinearOscillator01\t6\t3.580547049802048e-06\t!\n",
            "C1LinearOscillator01\t7\t0.00012286849643875015\t!\n",
            "C1LinearOscillator01\t8\t-0.00016533192056135062\t\n",
            "C1LinearOscillator01\t9\t-2.9494977110284793e-05\t\n",
            "C1LinearOscillator01\t10\t0.00035131547509162386\t!\n",
            "C1LinearOscillator02\t1\t-2.512415081567216e-05\t\n",
            "C1LinearOscillator02\t2\t-4.2017837531996265e-05\t\n",
            "C1LinearOscillator02\t3\t-3.298106400881698e-05\t\n",
            "C1LinearOscillator02\t4\t-3.3223161510467717e-05\t\n",
            "C1LinearOscillator02\t5\t0.00011973381042514999\t!\n",
            "C1LinearOscillator02\t6\t-5.0588747066914994e-05\t\n",
            "C1LinearOscillator02\t7\t-3.158067589378969e-05\t\n",
            "C1LinearOscillator02\t8\t0.00025117988873244346\t!\n",
            "C1LinearOscillator02\t9\t-5.2255853682015866e-05\t\n",
            "C1LinearOscillator02\t10\t0.00021019914096461476\t!\n",
            "Number of wrong classifications:  20\n"
          ]
        }
      ],
      "source": [
        "warnings.filterwarnings('ignore')\n",
        "lle = {}\n",
        "wrong_no = 0\n",
        "print(\"type\", \"no\", \"LLE\", sep=\"\\t\")\n",
        "for file in files:\n",
        "    lle[file] = []\n",
        "    for n in range(1,11):\n",
        "        df = pd.read_csv(f'{file}/{file}-{n}.txt',header=None,usecols=[0])\n",
        "        data = df[df.columns[0]].values.tolist()\n",
        "        v = nolds.lyap_r(data,emb_dim=3)\n",
        "        er = ''\n",
        "        if (file.startswith('C0') and v<0) or (file.startswith('C1') and v>0):\n",
        "            wrong_no += 1\n",
        "            er = '!'\n",
        "        lle[file].append(v)\n",
        "        print(file, n, v, er, sep=\"\\t\")\n",
        "warnings.filterwarnings('default')\n",
        "print(\"Number of wrong classifications: \",wrong_no)"
      ]
    },
    {
      "cell_type": "markdown",
      "id": "79bc821e-b641-4dcd-8661-800865ef1aa0",
      "metadata": {
        "id": "79bc821e-b641-4dcd-8661-800865ef1aa0"
      },
      "source": [
        "## Visualisation"
      ]
    },
    {
      "cell_type": "code",
      "execution_count": 8,
      "id": "f619c701-a10c-489c-bef9-eeffe74010f4",
      "metadata": {
        "id": "f619c701-a10c-489c-bef9-eeffe74010f4",
        "outputId": "e86fdc1d-c001-414f-f7f1-12633eb09e7f",
        "colab": {
          "base_uri": "https://localhost:8080/",
          "height": 631
        }
      },
      "outputs": [
        {
          "output_type": "execute_result",
          "data": {
            "text/plain": [
              "Text(0.5, 1.0, 'Largest Lyapunov Exponent calculated for signals ')"
            ]
          },
          "metadata": {},
          "execution_count": 8
        },
        {
          "output_type": "stream",
          "name": "stderr",
          "text": [
            "<frozen importlib._bootstrap>:914: ImportWarning: _PyDrive2ImportHook.find_spec() not found; falling back to find_module()\n",
            "<frozen importlib._bootstrap>:914: ImportWarning: _PyDriveImportHook.find_spec() not found; falling back to find_module()\n",
            "<frozen importlib._bootstrap>:914: ImportWarning: _GenerativeAIImportHook.find_spec() not found; falling back to find_module()\n",
            "<frozen importlib._bootstrap>:914: ImportWarning: _OpenCVImportHook.find_spec() not found; falling back to find_module()\n",
            "<frozen importlib._bootstrap>:914: ImportWarning: APICoreClientInfoImportHook.find_spec() not found; falling back to find_module()\n",
            "<frozen importlib._bootstrap>:914: ImportWarning: _BokehImportHook.find_spec() not found; falling back to find_module()\n",
            "<frozen importlib._bootstrap>:914: ImportWarning: _AltairImportHook.find_spec() not found; falling back to find_module()\n"
          ]
        },
        {
          "output_type": "display_data",
          "data": {
            "text/plain": [
              "<Figure size 640x480 with 1 Axes>"
            ],
            "image/png": "[encoded data removed]"
          },
          "metadata": {}
        }
      ],
      "source": [
        "for i,r in enumerate(lle):\n",
        "    if r.startswith('C0'): color='red'\n",
        "    if r.startswith('C1'): color='blue'\n",
        "    for j in range(10):\n",
        "        plt.scatter(i, lle[r][j], label=f\"{r}\",color=color)\n",
        "plt.ylim(bottom=-0.1)\n",
        "plt.text(x=0,y=-0.05,s=\"Chaotic signals (red)\",fontsize=\"small\")# ,color=\"red\")\n",
        "plt.text(x=5,y=-0.05,s=\"Deterministic signals (blue)\",fontsize=\"small\")#,color=\"blue\")\n",
        "plt.axvline(x = 4.5, linewidth=1, color = 'black', label = 'threshold', ls='dashed')\n",
        "plt.axhline(y = 0, linewidth=1, color = 'black', label = 'zero', ls='solid')\n",
        "\n",
        "plt.xlabel(\"Signal type\")\n",
        "plt.ylabel(\"LLE value\")\n",
        "#plt.legend(loc=\"upper right\")\n",
        "\n",
        "plt.title(f\"Largest Lyapunov Exponent calculated for signals \")"
      ]
    },
    {
      "cell_type": "markdown",
      "id": "788ea405-d2f2-43cc-a514-88f61db5bf6c",
      "metadata": {
        "id": "788ea405-d2f2-43cc-a514-88f61db5bf6c"
      },
      "source": [
        "## Loading medmax results"
      ]
    },
    {
      "cell_type": "code",
      "execution_count": 11,
      "id": "8d164fb6-2638-4fcf-a19b-d87876d569c9",
      "metadata": {
        "id": "8d164fb6-2638-4fcf-a19b-d87876d569c9"
      },
      "outputs": [],
      "source": [
        "with open('medmax100.json', 'r') as infile:\n",
        "    medmax100 = json.load(infile)"
      ]
    },
    {
      "cell_type": "code",
      "execution_count": null,
      "id": "1a39d61c-9bef-45b2-91ac-2221b9f89926",
      "metadata": {
        "id": "1a39d61c-9bef-45b2-91ac-2221b9f89926",
        "outputId": "cfb668f6-ac97-4de5-9194-d841fe08bdda"
      },
      "outputs": [
        {
          "name": "stdout",
          "output_type": "stream",
          "text": [
            "C0ModelHalvorsenA513\t0\t0.13336080477739862\n",
            "C0ModelHalvorsenA513\t1\t0.10624110945410414\n",
            "C0ModelHalvorsenA513\t2\t0.07798576057802152\n",
            "C0ModelHalvorsenA513\t3\t0.1332011559004791\n",
            "C0ModelHalvorsenA513\t4\t0.06032384970622003\n",
            "C0ModelHalvorsenA513\t5\t0.0981925045810748\n",
            "C0ModelHalvorsenA513\t6\t0.07039652182723503\n",
            "C0ModelHalvorsenA513\t7\t0.08301813791873315\n",
            "C0ModelHalvorsenA513\t8\t0.07780814677180402\n",
            "C0ModelHalvorsenA513\t9\t0.11985173019146264\n",
            "C0ModelLorenzA51\t0\t0.15056089571667353\n",
            "C0ModelLorenzA51\t1\t0.1894748756180691\n",
            "C0ModelLorenzA51\t2\t0.15495704207647581\n",
            "C0ModelLorenzA51\t3\t0.15919329318349715\n",
            "C0ModelLorenzA51\t4\t0.1846263307174736\n",
            "C0ModelLorenzA51\t5\t0.20554874266776432\n",
            "C0ModelLorenzA51\t6\t0.1878209706951469\n",
            "C0ModelLorenzA51\t7\t0.1713681660610328\n",
            "C0ModelLorenzA51\t8\t0.16987525970383352\n",
            "C0ModelLorenzA51\t9\t0.16781830696765235\n",
            "C0ModelRoslerA52\t0\t0.05254800242670745\n",
            "C0ModelRoslerA52\t1\t0.0700227131956329\n",
            "C0ModelRoslerA52\t2\t0.05831163388434882\n",
            "C0ModelRoslerA52\t3\t0.05002369685932648\n",
            "C0ModelRoslerA52\t4\t0.06487191744682269\n",
            "C0ModelRoslerA52\t5\t0.06469395241878283\n",
            "C0ModelRoslerA52\t6\t0.048648395202007824\n",
            "C0ModelRoslerA52\t7\t0.05978129040332141\n",
            "C0ModelRoslerA52\t8\t0.05706788775041947\n",
            "C0ModelRoslerA52\t9\t0.0455845097606734\n",
            "C0ModelRucklideA515\t0\t0.09373350438038945\n",
            "C0ModelRucklideA515\t1\t0.05651934855488775\n",
            "C0ModelRucklideA515\t2\t0.07125332391848718\n",
            "C0ModelRucklideA515\t3\t0.105632902419738\n",
            "C0ModelRucklideA515\t4\t0.07813741378486305\n",
            "C0ModelRucklideA515\t5\t0.046433311908609144\n",
            "C0ModelRucklideA515\t6\t0.06704050738486972\n",
            "C0ModelRucklideA515\t7\t0.13484461668702766\n",
            "C0ModelRucklideA515\t8\t0.07678490672216025\n",
            "C0ModelRucklideA515\t9\t0.06839897416645016\n",
            "C0ModelUedaA45\t0\t0.07231273337392391\n",
            "C0ModelUedaA45\t1\t0.09289278259703258\n",
            "C0ModelUedaA45\t2\t0.16840943567128044\n",
            "C0ModelUedaA45\t3\t0.09035637643233052\n",
            "C0ModelUedaA45\t4\t0.10544395714400226\n",
            "C0ModelUedaA45\t5\t0.05691721682709805\n",
            "C0ModelUedaA45\t6\t0.08917228377576068\n",
            "C0ModelUedaA45\t7\t0.062334691552173034\n",
            "C0ModelUedaA45\t8\t0.05781677899443845\n",
            "C0ModelUedaA45\t9\t0.06872968654532109\n",
            "C1LinearOscBooming01\t0\t0.01521525023857717\n",
            "C1LinearOscBooming01\t1\t0.012816979812751463\n",
            "C1LinearOscBooming01\t2\t0.015705956252003626\n",
            "C1LinearOscBooming01\t3\t0.01046096819963734\n",
            "C1LinearOscBooming01\t4\t0.02540598992877973\n",
            "C1LinearOscBooming01\t5\t0.018990584161393615\n",
            "C1LinearOscBooming01\t6\t0.015768603646715968\n",
            "C1LinearOscBooming01\t7\t0.018234350835828073\n",
            "C1LinearOscBooming01\t8\t0.012032664967983069\n",
            "C1LinearOscBooming01\t9\t0.021994459357120674\n",
            "C1LinearOscFading01\t0\t0.015359138066724197\n",
            "C1LinearOscFading01\t1\t0.014455779990305315\n",
            "C1LinearOscFading01\t2\t0.01622541685796074\n",
            "C1LinearOscFading01\t3\t0.018046563495181522\n",
            "C1LinearOscFading01\t4\t0.021386984095934543\n",
            "C1LinearOscFading01\t5\t0.016783107692416893\n",
            "C1LinearOscFading01\t6\t0.01569600105653923\n",
            "C1LinearOscFading01\t7\t0.010893782904330383\n",
            "C1LinearOscFading01\t8\t0.012957502960945545\n",
            "C1LinearOscFading01\t9\t0.01573791018607676\n",
            "C1LinearOscFading02\t0\t0.008727070202772585\n",
            "C1LinearOscFading02\t1\t0.010066297812870724\n",
            "C1LinearOscFading02\t2\t0.008916597497763707\n",
            "C1LinearOscFading02\t3\t0.010962039081702764\n",
            "C1LinearOscFading02\t4\t0.011994990021875238\n",
            "C1LinearOscFading02\t5\t0.009192157623944295\n",
            "C1LinearOscFading02\t6\t0.009961703340712013\n",
            "C1LinearOscFading02\t7\t0.013922423544206902\n",
            "C1LinearOscFading02\t8\t0.0106899709366783\n",
            "C1LinearOscFading02\t9\t0.010627910224894125\n",
            "C1LinearOscillator01\t0\t0.004210151296488489\n",
            "C1LinearOscillator01\t1\t0.0069265804145504754\n",
            "C1LinearOscillator01\t2\t0.0024657038134246875\n",
            "C1LinearOscillator01\t3\t0.0016366319634257432\n",
            "C1LinearOscillator01\t4\t0.0011501763664570686\n",
            "C1LinearOscillator01\t5\t0.0063332701101889485\n",
            "C1LinearOscillator01\t6\t0.001292818832621347\n",
            "C1LinearOscillator01\t7\t0.0007803683220447275\n",
            "C1LinearOscillator01\t8\t0.0016925294479193207\n",
            "C1LinearOscillator01\t9\t0.0042259654989336955\n",
            "C1LinearOscillator02\t0\t0.0002693634579730589\n",
            "C1LinearOscillator02\t1\t0.00042235262008497645\n",
            "C1LinearOscillator02\t2\t0.0002816440162632447\n",
            "C1LinearOscillator02\t3\t0.0001404665867837209\n",
            "C1LinearOscillator02\t4\t0.0003691529792023582\n",
            "C1LinearOscillator02\t5\t0.00020541234661278977\n",
            "C1LinearOscillator02\t6\t0.00019409911017754118\n",
            "C1LinearOscillator02\t7\t0.00033925650899358455\n",
            "C1LinearOscillator02\t8\t0.00028680272976614634\n",
            "C1LinearOscillator02\t9\t0.00018772894742942437\n"
          ]
        }
      ],
      "source": [
        "for r in medmax100:\n",
        "    for i in range(10):\n",
        "        print(r,i,medmax100[r][i],sep='\\t')"
      ]
    },
    {
      "cell_type": "markdown",
      "id": "bc9122b9-751e-411c-a71b-653974331408",
      "metadata": {
        "id": "bc9122b9-751e-411c-a71b-653974331408"
      },
      "source": [
        "## Calculating Pearson correlation between LLE and medmax results"
      ]
    },
    {
      "cell_type": "code",
      "execution_count": 12,
      "id": "ab77d9f0-d963-4797-adcf-7bb7f61da92d",
      "metadata": {
        "id": "ab77d9f0-d963-4797-adcf-7bb7f61da92d",
        "outputId": "798cd19e-f140-49dd-cc25-7655785324ba",
        "colab": {
          "base_uri": "https://localhost:8080/"
        }
      },
      "outputs": [
        {
          "output_type": "stream",
          "name": "stdout",
          "text": [
            "PearsonRResult(statistic=0.8809910811993127, pvalue=1.2804122030489668e-33)\n"
          ]
        }
      ],
      "source": [
        "from scipy.stats import pearsonr\n",
        "\n",
        "lle_vals = []\n",
        "medmax_vals = []\n",
        "for r in medmax100:\n",
        "    medmax_vals.extend(medmax100[r])\n",
        "    lle_vals.extend(lle[r])\n",
        "print(pearsonr(medmax_vals,lle_vals))"
      ]
    }
  ],
  "metadata": {
    "kernelspec": {
      "display_name": "Python 3 (ipykernel)",
      "language": "python",
      "name": "python3"
    },
    "language_info": {
      "codemirror_mode": {
        "name": "ipython",
        "version": 3
      },
      "file_extension": ".py",
      "mimetype": "text/x-python",
      "name": "python",
      "nbconvert_exporter": "python",
      "pygments_lexer": "ipython3",
      "version": "3.11.7"
    },
    "colab": {
      "provenance": []
    }
  },
  "nbformat": 4,
  "nbformat_minor": 5
}